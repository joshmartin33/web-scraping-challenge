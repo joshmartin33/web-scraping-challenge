{
 "cells": [
  {
   "cell_type": "code",
   "execution_count": 1,
   "id": "b789a565",
   "metadata": {},
   "outputs": [],
   "source": [
    "# Import dependencies\n",
    "import pandas as pd\n",
    "import matplotlib.pyplot as plt\n",
    "import scipy.stats as st\n",
    "import numpy as np\n",
    "\n",
    "# May use Scrapping if I have time\n",
    "#from splinter import Browser\n",
    "#from bs4 import BeautifulSoup\n",
    "#from webdriver_manager.chrome import ChromeDriverManager"
   ]
  },
  {
   "cell_type": "code",
   "execution_count": 2,
   "id": "3cc0ae5b",
   "metadata": {},
   "outputs": [],
   "source": [
    "# Set variable with url to be scrapped\n",
    "url = \"https://data-class-mars-challenge.s3.amazonaws.com/Mars/index.html\""
   ]
  },
  {
   "cell_type": "code",
   "execution_count": 3,
   "id": "08cc05c7",
   "metadata": {},
   "outputs": [],
   "source": [
    "# Read in url using pandas and set the list to a tables variable\n",
    "tables = pd.read_html(url)"
   ]
  },
  {
   "cell_type": "code",
   "execution_count": 4,
   "id": "7023baa4",
   "metadata": {},
   "outputs": [
    {
     "data": {
      "text/html": [
       "<div>\n",
       "<style scoped>\n",
       "    .dataframe tbody tr th:only-of-type {\n",
       "        vertical-align: middle;\n",
       "    }\n",
       "\n",
       "    .dataframe tbody tr th {\n",
       "        vertical-align: top;\n",
       "    }\n",
       "\n",
       "    .dataframe thead th {\n",
       "        text-align: right;\n",
       "    }\n",
       "</style>\n",
       "<table border=\"1\" class=\"dataframe\">\n",
       "  <thead>\n",
       "    <tr style=\"text-align: right;\">\n",
       "      <th></th>\n",
       "      <th>id</th>\n",
       "      <th>terrestrial_date</th>\n",
       "      <th>sol</th>\n",
       "      <th>ls</th>\n",
       "      <th>month</th>\n",
       "      <th>min_temp</th>\n",
       "      <th>pressure</th>\n",
       "    </tr>\n",
       "  </thead>\n",
       "  <tbody>\n",
       "    <tr>\n",
       "      <th>0</th>\n",
       "      <td>2</td>\n",
       "      <td>2012-08-16</td>\n",
       "      <td>10</td>\n",
       "      <td>155</td>\n",
       "      <td>6</td>\n",
       "      <td>-75.0</td>\n",
       "      <td>739.0</td>\n",
       "    </tr>\n",
       "    <tr>\n",
       "      <th>1</th>\n",
       "      <td>13</td>\n",
       "      <td>2012-08-17</td>\n",
       "      <td>11</td>\n",
       "      <td>156</td>\n",
       "      <td>6</td>\n",
       "      <td>-76.0</td>\n",
       "      <td>740.0</td>\n",
       "    </tr>\n",
       "    <tr>\n",
       "      <th>2</th>\n",
       "      <td>24</td>\n",
       "      <td>2012-08-18</td>\n",
       "      <td>12</td>\n",
       "      <td>156</td>\n",
       "      <td>6</td>\n",
       "      <td>-76.0</td>\n",
       "      <td>741.0</td>\n",
       "    </tr>\n",
       "    <tr>\n",
       "      <th>3</th>\n",
       "      <td>35</td>\n",
       "      <td>2012-08-19</td>\n",
       "      <td>13</td>\n",
       "      <td>157</td>\n",
       "      <td>6</td>\n",
       "      <td>-74.0</td>\n",
       "      <td>732.0</td>\n",
       "    </tr>\n",
       "    <tr>\n",
       "      <th>4</th>\n",
       "      <td>46</td>\n",
       "      <td>2012-08-20</td>\n",
       "      <td>14</td>\n",
       "      <td>157</td>\n",
       "      <td>6</td>\n",
       "      <td>-74.0</td>\n",
       "      <td>740.0</td>\n",
       "    </tr>\n",
       "    <tr>\n",
       "      <th>...</th>\n",
       "      <td>...</td>\n",
       "      <td>...</td>\n",
       "      <td>...</td>\n",
       "      <td>...</td>\n",
       "      <td>...</td>\n",
       "      <td>...</td>\n",
       "      <td>...</td>\n",
       "    </tr>\n",
       "    <tr>\n",
       "      <th>1862</th>\n",
       "      <td>1889</td>\n",
       "      <td>2018-02-23</td>\n",
       "      <td>1973</td>\n",
       "      <td>133</td>\n",
       "      <td>5</td>\n",
       "      <td>-78.0</td>\n",
       "      <td>730.0</td>\n",
       "    </tr>\n",
       "    <tr>\n",
       "      <th>1863</th>\n",
       "      <td>1892</td>\n",
       "      <td>2018-02-24</td>\n",
       "      <td>1974</td>\n",
       "      <td>134</td>\n",
       "      <td>5</td>\n",
       "      <td>-77.0</td>\n",
       "      <td>729.0</td>\n",
       "    </tr>\n",
       "    <tr>\n",
       "      <th>1864</th>\n",
       "      <td>1894</td>\n",
       "      <td>2018-02-25</td>\n",
       "      <td>1975</td>\n",
       "      <td>134</td>\n",
       "      <td>5</td>\n",
       "      <td>-76.0</td>\n",
       "      <td>729.0</td>\n",
       "    </tr>\n",
       "    <tr>\n",
       "      <th>1865</th>\n",
       "      <td>1893</td>\n",
       "      <td>2018-02-26</td>\n",
       "      <td>1976</td>\n",
       "      <td>135</td>\n",
       "      <td>5</td>\n",
       "      <td>-77.0</td>\n",
       "      <td>728.0</td>\n",
       "    </tr>\n",
       "    <tr>\n",
       "      <th>1866</th>\n",
       "      <td>1895</td>\n",
       "      <td>2018-02-27</td>\n",
       "      <td>1977</td>\n",
       "      <td>135</td>\n",
       "      <td>5</td>\n",
       "      <td>-77.0</td>\n",
       "      <td>727.0</td>\n",
       "    </tr>\n",
       "  </tbody>\n",
       "</table>\n",
       "<p>1867 rows × 7 columns</p>\n",
       "</div>"
      ],
      "text/plain": [
       "        id terrestrial_date   sol   ls  month  min_temp  pressure\n",
       "0        2       2012-08-16    10  155      6     -75.0     739.0\n",
       "1       13       2012-08-17    11  156      6     -76.0     740.0\n",
       "2       24       2012-08-18    12  156      6     -76.0     741.0\n",
       "3       35       2012-08-19    13  157      6     -74.0     732.0\n",
       "4       46       2012-08-20    14  157      6     -74.0     740.0\n",
       "...    ...              ...   ...  ...    ...       ...       ...\n",
       "1862  1889       2018-02-23  1973  133      5     -78.0     730.0\n",
       "1863  1892       2018-02-24  1974  134      5     -77.0     729.0\n",
       "1864  1894       2018-02-25  1975  134      5     -76.0     729.0\n",
       "1865  1893       2018-02-26  1976  135      5     -77.0     728.0\n",
       "1866  1895       2018-02-27  1977  135      5     -77.0     727.0\n",
       "\n",
       "[1867 rows x 7 columns]"
      ]
     },
     "execution_count": 4,
     "metadata": {},
     "output_type": "execute_result"
    }
   ],
   "source": [
    "# Set the first tables in the tables list as a dataframe\n",
    "mars_temp_df = tables[0]\n",
    "mars_temp_df"
   ]
  },
  {
   "cell_type": "code",
   "execution_count": 5,
   "id": "711e0bf9",
   "metadata": {},
   "outputs": [
    {
     "name": "stdout",
     "output_type": "stream",
     "text": [
      "id                    int64\n",
      "terrestrial_date     object\n",
      "sol                   int64\n",
      "ls                    int64\n",
      "month                 int64\n",
      "min_temp            float64\n",
      "pressure            float64\n",
      "dtype: object\n"
     ]
    }
   ],
   "source": [
    "# Print data types\n",
    "print(mars_temp_df.dtypes)"
   ]
  },
  {
   "cell_type": "code",
   "execution_count": 6,
   "id": "6640d463",
   "metadata": {},
   "outputs": [],
   "source": [
    "# Convert terrestrial_date column to data type datetime\n",
    "mars_temp_df[\"terrestrial_date\"] = pd.to_datetime(mars_temp_df[\"terrestrial_date\"])"
   ]
  },
  {
   "cell_type": "code",
   "execution_count": 7,
   "id": "a4121479",
   "metadata": {},
   "outputs": [
    {
     "name": "stdout",
     "output_type": "stream",
     "text": [
      "datetime64[ns]\n"
     ]
    }
   ],
   "source": [
    "# Check data type has changed\n",
    "print(mars_temp_df.dtypes.terrestrial_date)"
   ]
  },
  {
   "cell_type": "markdown",
   "id": "cd14fbe4",
   "metadata": {},
   "source": [
    "Analyse the data by answering the following questions.\n",
    "\n",
    "1. How many months exist on Mars?\n",
    "\n",
    "2. How many Martian (and not Earth) days' worth of data exist in the scraped dataset?\n",
    "\n",
    "3. What are the coldest and the warmest months on Mars (at the location of Curiosity)? Get the answer by averaging the minimum daily temperature of all the months. Plot the results as a bar chart.\n",
    "\n",
    "4. Which months have the lowest and the highest atmospheric pressure on Mars? Get the answer by averaging the daily atmospheric pressure of all the months. Plot the results as a bar chart.\n",
    "\n",
    "5. About how many terrestrial (Earth) days exist in a Martian year? That is, in the time that Mars circles the Sun once, how many days elapse on Earth? Visually estimate the result by plotting the daily minimum temperature."
   ]
  },
  {
   "cell_type": "code",
   "execution_count": 8,
   "id": "c79c7faa",
   "metadata": {},
   "outputs": [
    {
     "name": "stdout",
     "output_type": "stream",
     "text": [
      "There is 12 months on Mars\n"
     ]
    }
   ],
   "source": [
    "# 1. How many months exist on Mars?\n",
    "\n",
    "# count how many unique months there is in the dataframe\n",
    "no_months = len(mars_temp_df[\"month\"].unique())\n",
    "\n",
    "# Print result\n",
    "print(f\"There is {no_months} months on Mars\")"
   ]
  },
  {
   "cell_type": "code",
   "execution_count": 9,
   "id": "b7733457",
   "metadata": {},
   "outputs": [],
   "source": [
    "# Graph displaying question 1 results\n"
   ]
  },
  {
   "cell_type": "code",
   "execution_count": 10,
   "id": "85351ad2",
   "metadata": {},
   "outputs": [
    {
     "name": "stdout",
     "output_type": "stream",
     "text": [
      "There is 1867 Martian days worth of data in scraped dataset\n"
     ]
    }
   ],
   "source": [
    "# 2. How many Martian (and not Earth) days' worth of data exist in the scraped dataset?\n",
    "\n",
    "# count how many unique days there is in the dataframe\n",
    "no_days = len(mars_temp_df[\"sol\"].unique())\n",
    "\n",
    "# Print result\n",
    "print(f\"There is {no_days} Martian days worth of data in scraped dataset\")"
   ]
  },
  {
   "cell_type": "code",
   "execution_count": 11,
   "id": "97c6b752",
   "metadata": {},
   "outputs": [],
   "source": [
    "# Graph displaying question 2 results\n"
   ]
  },
  {
   "cell_type": "code",
   "execution_count": 12,
   "id": "c439ef07",
   "metadata": {},
   "outputs": [],
   "source": [
    "# group dataframe by month DATA to be used for questions 3 and 4\n",
    "mars_temp_group_month = mars_temp_df.groupby(\"month\")\n"
   ]
  },
  {
   "cell_type": "code",
   "execution_count": 13,
   "id": "92f3c637",
   "metadata": {},
   "outputs": [
    {
     "name": "stdout",
     "output_type": "stream",
     "text": [
      "The month with the coldest average minimum temperature is month 3 with a temperature of -83.31\n",
      "The month with the warmest average minimum temperature is month 8 with a temperature of -68.38\n"
     ]
    }
   ],
   "source": [
    "#3. What are the coldest and the warmest months on Mars \n",
    "# (at the location of Curiosity)? \n",
    "\n",
    "# store the mean values of min_temp to new variable\n",
    "mean_temp_by_month = mars_temp_group_month.mean()[\"min_temp\"]\n",
    "\n",
    "# Grab max and min of the mean min_temp by month and store them as variables\n",
    "temp_min = mean_temp_by_month.min()\n",
    "temp_max = mean_temp_by_month.max()\n",
    "\n",
    "# using the min and max values find the month related to that value\n",
    "temp_min_month = mean_temp_by_month[mean_temp_by_month == temp_min].index[0]\n",
    "temp_max_month = mean_temp_by_month[mean_temp_by_month == temp_max].index[0]\n",
    "\n",
    "# Print result\n",
    "print(f\"The month with the coldest average minimum temperature is month {temp_min_month} with a temperature of {temp_min: .2f}\")\n",
    "print(f\"The month with the warmest average minimum temperature is month {temp_max_month} with a temperature of {temp_max: .2f}\")"
   ]
  },
  {
   "cell_type": "code",
   "execution_count": 14,
   "id": "9b51bfff",
   "metadata": {},
   "outputs": [
    {
     "data": {
      "image/png": "[encoded data removed]",
      "text/plain": [
       "<Figure size 432x288 with 1 Axes>"
      ]
     },
     "metadata": {
      "needs_background": "light"
     },
     "output_type": "display_data"
    }
   ],
   "source": [
    "# Plot the results as a bar chart.\n",
    "mean_temp_by_month.plot(kind='bar')\n",
    "plt.ylabel(\"Minimum Temperature\")\n",
    "plt.xlabel(\"Month\")\n",
    "plt.title(\"Average Minimum Daily Temp by Month\")\n",
    "plt.show()\n"
   ]
  },
  {
   "cell_type": "code",
   "execution_count": 15,
   "id": "916704a9",
   "metadata": {},
   "outputs": [
    {
     "name": "stdout",
     "output_type": "stream",
     "text": [
      "The month with the lowest average atmospheric pressure on Mars is month 6 with a pressure of  745.05\n",
      "The month with the highest average atmospheric pressure on Mars is month 9 with a pressure of  913.31\n"
     ]
    }
   ],
   "source": [
    "# 4. Which months have the lowest and the highest atmospheric pressure on Mars?\n",
    "\n",
    "# store the mean values of pressure to new variable\n",
    "mean_pressure_by_month = mars_temp_group_month.mean()[\"pressure\"]\n",
    "\n",
    "# Grab max and min of the mean pressure by month and store them as variables\n",
    "pressure_min = mean_pressure_by_month.min()\n",
    "pressure_max = mean_pressure_by_month.max()\n",
    "\n",
    "# using the min and max values find the month related to that value\n",
    "pressure_min_month = mean_pressure_by_month[mean_pressure_by_month == pressure_min].index[0]\n",
    "pressure_max_month = mean_pressure_by_month[mean_pressure_by_month == pressure_max].index[0]\n",
    "\n",
    "# Print result\n",
    "print(f\"The month with the lowest average atmospheric pressure on Mars is month {pressure_min_month} with a pressure of {pressure_min: .2f}\")\n",
    "print(f\"The month with the highest average atmospheric pressure on Mars is month {pressure_max_month} with a pressure of {pressure_max: .2f}\")"
   ]
  },
  {
   "cell_type": "code",
   "execution_count": 16,
   "id": "b302c2f3",
   "metadata": {},
   "outputs": [
    {
     "data": {
      "image/png": "[encoded data removed]",
      "text/plain": [
       "<Figure size 432x288 with 1 Axes>"
      ]
     },
     "metadata": {
      "needs_background": "light"
     },
     "output_type": "display_data"
    }
   ],
   "source": [
    "# Plot the results as a bar chart.\n",
    "mean_pressure_by_month.plot(kind='bar')\n",
    "plt.ylabel(\"Pressure\")\n",
    "plt.xlabel(\"Month\")\n",
    "plt.title(\"Average atmospheric pressure on Mars by Month\")\n",
    "plt.show()"
   ]
  },
  {
   "cell_type": "code",
   "execution_count": null,
   "id": "58b00448",
   "metadata": {},
   "outputs": [],
   "source": []
  }
 ],
 "metadata": {
  "kernelspec": {
   "display_name": "Python [conda env:PythonData2] *",
   "language": "python",
   "name": "conda-env-PythonData2-py"
  },
  "language_info": {
   "codemirror_mode": {
    "name": "ipython",
    "version": 3
   },
   "file_extension": ".py",
   "mimetype": "text/x-python",
   "name": "python",
   "nbconvert_exporter": "python",
   "pygments_lexer": "ipython3",
   "version": "3.7.7"
  }
 },
 "nbformat": 4,
 "nbformat_minor": 5
}
