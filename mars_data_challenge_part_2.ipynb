{
 "cells": [
  {
   "cell_type": "code",
   "execution_count": 1,
   "id": "10044b20",
   "metadata": {},
   "outputs": [],
   "source": [
    "# Import dependencies\n",
    "import pandas as pd\n",
    "import matplotlib.pyplot as plt\n",
    "import scipy.stats as st\n",
    "import numpy as np"
   ]
  },
  {
   "cell_type": "code",
   "execution_count": 2,
   "id": "29ede28e",
   "metadata": {},
   "outputs": [],
   "source": [
    "# Output File (CSV)\n",
    "output_data_file = \"output_data_file/mars_temp.csv\""
   ]
  },
  {
   "cell_type": "code",
   "execution_count": 3,
   "id": "cad5f793",
   "metadata": {},
   "outputs": [],
   "source": [
    "# Set variable with url to be scrapped\n",
    "url = \"https://data-class-mars-challenge.s3.amazonaws.com/Mars/index.html\""
   ]
  },
  {
   "cell_type": "code",
   "execution_count": 4,
   "id": "8c6cda91",
   "metadata": {},
   "outputs": [],
   "source": [
    "# Read in url using pandas and set the list to a tables variable\n",
    "tables = pd.read_html(url)"
   ]
  },
  {
   "cell_type": "code",
   "execution_count": 5,
   "id": "db7a30b2",
   "metadata": {},
   "outputs": [
    {
     "data": {
      "text/html": [
       "<div>\n",
       "<style scoped>\n",
       "    .dataframe tbody tr th:only-of-type {\n",
       "        vertical-align: middle;\n",
       "    }\n",
       "\n",
       "    .dataframe tbody tr th {\n",
       "        vertical-align: top;\n",
       "    }\n",
       "\n",
       "    .dataframe thead th {\n",
       "        text-align: right;\n",
       "    }\n",
       "</style>\n",
       "<table border=\"1\" class=\"dataframe\">\n",
       "  <thead>\n",
       "    <tr style=\"text-align: right;\">\n",
       "      <th></th>\n",
       "      <th>id</th>\n",
       "      <th>terrestrial_date</th>\n",
       "      <th>sol</th>\n",
       "      <th>ls</th>\n",
       "      <th>month</th>\n",
       "      <th>min_temp</th>\n",
       "      <th>pressure</th>\n",
       "    </tr>\n",
       "  </thead>\n",
       "  <tbody>\n",
       "    <tr>\n",
       "      <th>0</th>\n",
       "      <td>2</td>\n",
       "      <td>2012-08-16</td>\n",
       "      <td>10</td>\n",
       "      <td>155</td>\n",
       "      <td>6</td>\n",
       "      <td>-75.0</td>\n",
       "      <td>739.0</td>\n",
       "    </tr>\n",
       "    <tr>\n",
       "      <th>1</th>\n",
       "      <td>13</td>\n",
       "      <td>2012-08-17</td>\n",
       "      <td>11</td>\n",
       "      <td>156</td>\n",
       "      <td>6</td>\n",
       "      <td>-76.0</td>\n",
       "      <td>740.0</td>\n",
       "    </tr>\n",
       "    <tr>\n",
       "      <th>2</th>\n",
       "      <td>24</td>\n",
       "      <td>2012-08-18</td>\n",
       "      <td>12</td>\n",
       "      <td>156</td>\n",
       "      <td>6</td>\n",
       "      <td>-76.0</td>\n",
       "      <td>741.0</td>\n",
       "    </tr>\n",
       "    <tr>\n",
       "      <th>3</th>\n",
       "      <td>35</td>\n",
       "      <td>2012-08-19</td>\n",
       "      <td>13</td>\n",
       "      <td>157</td>\n",
       "      <td>6</td>\n",
       "      <td>-74.0</td>\n",
       "      <td>732.0</td>\n",
       "    </tr>\n",
       "    <tr>\n",
       "      <th>4</th>\n",
       "      <td>46</td>\n",
       "      <td>2012-08-20</td>\n",
       "      <td>14</td>\n",
       "      <td>157</td>\n",
       "      <td>6</td>\n",
       "      <td>-74.0</td>\n",
       "      <td>740.0</td>\n",
       "    </tr>\n",
       "    <tr>\n",
       "      <th>...</th>\n",
       "      <td>...</td>\n",
       "      <td>...</td>\n",
       "      <td>...</td>\n",
       "      <td>...</td>\n",
       "      <td>...</td>\n",
       "      <td>...</td>\n",
       "      <td>...</td>\n",
       "    </tr>\n",
       "    <tr>\n",
       "      <th>1862</th>\n",
       "      <td>1889</td>\n",
       "      <td>2018-02-23</td>\n",
       "      <td>1973</td>\n",
       "      <td>133</td>\n",
       "      <td>5</td>\n",
       "      <td>-78.0</td>\n",
       "      <td>730.0</td>\n",
       "    </tr>\n",
       "    <tr>\n",
       "      <th>1863</th>\n",
       "      <td>1892</td>\n",
       "      <td>2018-02-24</td>\n",
       "      <td>1974</td>\n",
       "      <td>134</td>\n",
       "      <td>5</td>\n",
       "      <td>-77.0</td>\n",
       "      <td>729.0</td>\n",
       "    </tr>\n",
       "    <tr>\n",
       "      <th>1864</th>\n",
       "      <td>1894</td>\n",
       "      <td>2018-02-25</td>\n",
       "      <td>1975</td>\n",
       "      <td>134</td>\n",
       "      <td>5</td>\n",
       "      <td>-76.0</td>\n",
       "      <td>729.0</td>\n",
       "    </tr>\n",
       "    <tr>\n",
       "      <th>1865</th>\n",
       "      <td>1893</td>\n",
       "      <td>2018-02-26</td>\n",
       "      <td>1976</td>\n",
       "      <td>135</td>\n",
       "      <td>5</td>\n",
       "      <td>-77.0</td>\n",
       "      <td>728.0</td>\n",
       "    </tr>\n",
       "    <tr>\n",
       "      <th>1866</th>\n",
       "      <td>1895</td>\n",
       "      <td>2018-02-27</td>\n",
       "      <td>1977</td>\n",
       "      <td>135</td>\n",
       "      <td>5</td>\n",
       "      <td>-77.0</td>\n",
       "      <td>727.0</td>\n",
       "    </tr>\n",
       "  </tbody>\n",
       "</table>\n",
       "<p>1867 rows × 7 columns</p>\n",
       "</div>"
      ],
      "text/plain": [
       "        id terrestrial_date   sol   ls  month  min_temp  pressure\n",
       "0        2       2012-08-16    10  155      6     -75.0     739.0\n",
       "1       13       2012-08-17    11  156      6     -76.0     740.0\n",
       "2       24       2012-08-18    12  156      6     -76.0     741.0\n",
       "3       35       2012-08-19    13  157      6     -74.0     732.0\n",
       "4       46       2012-08-20    14  157      6     -74.0     740.0\n",
       "...    ...              ...   ...  ...    ...       ...       ...\n",
       "1862  1889       2018-02-23  1973  133      5     -78.0     730.0\n",
       "1863  1892       2018-02-24  1974  134      5     -77.0     729.0\n",
       "1864  1894       2018-02-25  1975  134      5     -76.0     729.0\n",
       "1865  1893       2018-02-26  1976  135      5     -77.0     728.0\n",
       "1866  1895       2018-02-27  1977  135      5     -77.0     727.0\n",
       "\n",
       "[1867 rows x 7 columns]"
      ]
     },
     "execution_count": 5,
     "metadata": {},
     "output_type": "execute_result"
    }
   ],
   "source": [
    "# Set the first tables in the tables list as a dataframe\n",
    "mars_temp_df = tables[0]\n",
    "mars_temp_df"
   ]
  },
  {
   "cell_type": "code",
   "execution_count": 6,
   "id": "36593911",
   "metadata": {},
   "outputs": [
    {
     "name": "stdout",
     "output_type": "stream",
     "text": [
      "id                    int64\n",
      "terrestrial_date     object\n",
      "sol                   int64\n",
      "ls                    int64\n",
      "month                 int64\n",
      "min_temp            float64\n",
      "pressure            float64\n",
      "dtype: object\n"
     ]
    }
   ],
   "source": [
    "# Print data types\n",
    "print(mars_temp_df.dtypes)"
   ]
  },
  {
   "cell_type": "code",
   "execution_count": 7,
   "id": "c400a8ce",
   "metadata": {},
   "outputs": [],
   "source": [
    "# Convert terrestrial_date column to data type datetime\n",
    "mars_temp_df[\"terrestrial_date\"] = pd.to_datetime(mars_temp_df[\"terrestrial_date\"])"
   ]
  },
  {
   "cell_type": "code",
   "execution_count": 8,
   "id": "ac86fac7",
   "metadata": {},
   "outputs": [
    {
     "name": "stdout",
     "output_type": "stream",
     "text": [
      "datetime64[ns]\n"
     ]
    }
   ],
   "source": [
    "# Check data type has changed\n",
    "print(mars_temp_df.dtypes.terrestrial_date)"
   ]
  },
  {
   "cell_type": "markdown",
   "id": "beef1a0f",
   "metadata": {},
   "source": [
    "---\n",
    "Analyse the data by answering the following questions.\n",
    "\n",
    "---\n",
    "1. How many months exist on Mars?\n",
    "\n",
    "2. How many Martian (and not Earth) days' worth of data exist in the scraped dataset?\n",
    "\n",
    "3. What are the coldest and the warmest months on Mars (at the location of Curiosity)? Get the answer by averaging the minimum daily temperature of all the months. Plot the results as a bar chart.\n",
    "\n",
    "4. Which months have the lowest and the highest atmospheric pressure on Mars? Get the answer by averaging the daily atmospheric pressure of all the months. Plot the results as a bar chart.\n",
    "\n",
    "5. About how many terrestrial (Earth) days exist in a Martian year? That is, in the time that Mars circles the Sun once, how many days elapse on Earth? Visually estimate the result by plotting the daily minimum temperature.\n",
    "---"
   ]
  },
  {
   "cell_type": "markdown",
   "id": "a54c84ac",
   "metadata": {},
   "source": [
    "---\n",
    "<h3>Calc to be used in the following questions</h3>"
   ]
  },
  {
   "cell_type": "code",
   "execution_count": 9,
   "id": "4936c208",
   "metadata": {},
   "outputs": [],
   "source": [
    "# group dataframe by month DATA to be used for the questions\n",
    "mars_temp_group_month = mars_temp_df.groupby(\"month\")"
   ]
  },
  {
   "cell_type": "markdown",
   "id": "f2d3a0e5",
   "metadata": {},
   "source": [
    "---\n",
    "<h1># 1. How many months exist on Mars?</h1>"
   ]
  },
  {
   "cell_type": "code",
   "execution_count": 10,
   "id": "55c3e5e4",
   "metadata": {},
   "outputs": [
    {
     "name": "stdout",
     "output_type": "stream",
     "text": [
      "There is 12 months on Mars\n"
     ]
    }
   ],
   "source": [
    "# count how many unique months there is in the dataframe\n",
    "no_months = len(mars_temp_df[\"month\"].unique())\n",
    "\n",
    "# Print result\n",
    "print(f\"There is {no_months} months on Mars\")"
   ]
  },
  {
   "cell_type": "code",
   "execution_count": 11,
   "id": "090e89cf",
   "metadata": {},
   "outputs": [
    {
     "data": {
      "image/png": "[encoded data removed]",
      "text/plain": [
       "<Figure size 432x288 with 1 Axes>"
      ]
     },
     "metadata": {},
     "output_type": "display_data"
    }
   ],
   "source": [
    "# Plot how many times the month comes up in the data set\n",
    "month_counts = mars_temp_group_month.sol.count()\n",
    "\n",
    "# Labels for the sections of our pie chart\n",
    "month_label = mars_temp_df[\"month\"].unique()\n",
    "month_label.sort()\n",
    "\n",
    "tup_explode = (0.2, 0.1, 0.1, 0.1, 0.1, 0.1, 0.1, 0.1, 0.1, 0.1, 0.1, 0.1)\n",
    "\n",
    "plt.pie(month_counts, explode=tup_explode, shadow=True, startangle=140, labels=month_label, autopct=\"%1.0f%%\")\n",
    "\n",
    "# Add title\n",
    "plt.title(\"Count of Martian Months\")\n",
    "\n",
    "plt.show()\n"
   ]
  },
  {
   "cell_type": "markdown",
   "id": "60871aa0",
   "metadata": {},
   "source": [
    "---\n",
    "<h1># 2. How many Martian (and not Earth) days' worth of data exist in the scraped dataset?</h1>"
   ]
  },
  {
   "cell_type": "code",
   "execution_count": 12,
   "id": "388ad3b5",
   "metadata": {},
   "outputs": [
    {
     "name": "stdout",
     "output_type": "stream",
     "text": [
      "There is 1867 Martian days worth of data in scraped dataset\n"
     ]
    }
   ],
   "source": [
    "# count how many unique days there is in the dataframe\n",
    "no_days = len(mars_temp_df[\"sol\"].unique())\n",
    "\n",
    "# Print result\n",
    "print(f\"There is {no_days} Martian days worth of data in scraped dataset\")"
   ]
  },
  {
   "cell_type": "markdown",
   "id": "6ec4c2fb",
   "metadata": {},
   "source": [
    "---\n",
    "<h1>#3. What are the coldest and the warmest months on Mars (at the location of Curiosity)? </h1>"
   ]
  },
  {
   "cell_type": "code",
   "execution_count": 13,
   "id": "64b814d7",
   "metadata": {},
   "outputs": [
    {
     "name": "stdout",
     "output_type": "stream",
     "text": [
      "The month with the coldest average minimum temperature is month 3 with a temperature of -83.31\n",
      "The month with the warmest average minimum temperature is month 8 with a temperature of -68.38\n"
     ]
    }
   ],
   "source": [
    "# store the mean values of min_temp to new variable\n",
    "mean_temp_by_month = mars_temp_group_month.mean()[\"min_temp\"]\n",
    "\n",
    "# Grab max and min of the mean min_temp by month and store them as variables\n",
    "temp_min = mean_temp_by_month.min()\n",
    "temp_max = mean_temp_by_month.max()\n",
    "\n",
    "# using the min and max values find the month related to that value\n",
    "temp_min_month = mean_temp_by_month[mean_temp_by_month == temp_min].index[0]\n",
    "temp_max_month = mean_temp_by_month[mean_temp_by_month == temp_max].index[0]\n",
    "\n",
    "# Print result\n",
    "print(f\"The month with the coldest average minimum temperature is month {temp_min_month} with a temperature of {temp_min: .2f}\")\n",
    "print(f\"The month with the warmest average minimum temperature is month {temp_max_month} with a temperature of {temp_max: .2f}\")"
   ]
  },
  {
   "cell_type": "code",
   "execution_count": 14,
   "id": "2790d282",
   "metadata": {},
   "outputs": [
    {
     "data": {
      "image/png": "[encoded data removed]",
      "text/plain": [
       "<Figure size 432x288 with 1 Axes>"
      ]
     },
     "metadata": {
      "needs_background": "light"
     },
     "output_type": "display_data"
    }
   ],
   "source": [
    "# Plot the results as a bar chart.\n",
    "mean_temp_by_month.plot(kind='bar')\n",
    "\n",
    "# set axis label\n",
    "plt.ylabel(\"Minimum Temperature\")\n",
    "plt.xlabel(\"Month\")\n",
    "\n",
    "# Set y axis visible range\n",
    "plt.ylim(-67.5, -85)\n",
    "\n",
    "# Set title\n",
    "plt.title(\"Average Minimum Daily Temp by Month\")\n",
    "\n",
    "plt.show()"
   ]
  },
  {
   "cell_type": "markdown",
   "id": "0370819f",
   "metadata": {},
   "source": [
    "---\n",
    "<h1># 4. Which months have the lowest and the highest atmospheric pressure on Mars?</h1>"
   ]
  },
  {
   "cell_type": "code",
   "execution_count": 15,
   "id": "ae39412f",
   "metadata": {},
   "outputs": [
    {
     "name": "stdout",
     "output_type": "stream",
     "text": [
      "The month with the lowest average atmospheric pressure on Mars is month 6 with a pressure of  745.05\n",
      "The month with the highest average atmospheric pressure on Mars is month 9 with a pressure of  913.31\n"
     ]
    }
   ],
   "source": [
    "# store the mean values of pressure to new variable\n",
    "mean_pressure_by_month = mars_temp_group_month.mean()[\"pressure\"]\n",
    "\n",
    "# Grab max and min of the mean pressure by month and store them as variables\n",
    "pressure_min = mean_pressure_by_month.min()\n",
    "pressure_max = mean_pressure_by_month.max()\n",
    "\n",
    "# using the min and max values find the month related to that value\n",
    "pressure_min_month = mean_pressure_by_month[mean_pressure_by_month == pressure_min].index[0]\n",
    "pressure_max_month = mean_pressure_by_month[mean_pressure_by_month == pressure_max].index[0]\n",
    "\n",
    "# Print result\n",
    "print(f\"The month with the lowest average atmospheric pressure on Mars is month {pressure_min_month} with a pressure of {pressure_min: .2f}\")\n",
    "print(f\"The month with the highest average atmospheric pressure on Mars is month {pressure_max_month} with a pressure of {pressure_max: .2f}\")"
   ]
  },
  {
   "cell_type": "code",
   "execution_count": 16,
   "id": "6f52f8e5",
   "metadata": {},
   "outputs": [
    {
     "data": {
      "image/png": "[encoded data removed]",
      "text/plain": [
       "<Figure size 432x288 with 1 Axes>"
      ]
     },
     "metadata": {
      "needs_background": "light"
     },
     "output_type": "display_data"
    }
   ],
   "source": [
    "# Use Pandas Plotting with Matplotlib to plot the data\n",
    "mean_pressure_by_month.plot(kind='bar')\n",
    "\n",
    "# set axis label\n",
    "plt.ylabel(\"Pressure\")\n",
    "plt.xlabel(\"Month\")\n",
    "\n",
    "# Set y axis visible range\n",
    "plt.ylim(700, 950)\n",
    "\n",
    "# Set title\n",
    "plt.title(\"Average atmospheric pressure on Mars by Month\")\n",
    "\n",
    "plt.show()"
   ]
  },
  {
   "cell_type": "markdown",
   "id": "3bd0ee22",
   "metadata": {},
   "source": [
    "---\n",
    "<h1>5. About how many terrestrial (Earth) days exist in a Martian year?</h1>"
   ]
  },
  {
   "cell_type": "code",
   "execution_count": 17,
   "id": "d04f2235",
   "metadata": {},
   "outputs": [],
   "source": [
    "# Set variables to be used in for loop to trigger when to grab date data\n",
    "find_first_1 = False\n",
    "find_first_2 = False\n",
    "find_second_1 = False"
   ]
  },
  {
   "cell_type": "code",
   "execution_count": 18,
   "id": "7c533a33",
   "metadata": {},
   "outputs": [],
   "source": [
    "# Iterate through the mars_temp_df to grab earth dates when month 1 first apprears and when month 12 ends\n",
    "\n",
    "for row in mars_temp_df.index:\n",
    "\n",
    "    # Find first time month == 1 and grab the earth date\n",
    "    if find_first_1 == False:\n",
    "\n",
    "        if mars_temp_df.loc[row, \"month\"] == 1:\n",
    "            start_date = mars_temp_df.loc[row, \"terrestrial_date\"]\n",
    "            find_first_1 = True\n",
    "            start_date_index = row\n",
    "            \n",
    "    # Find when we can start lookin for the next first month 1\n",
    "    elif (find_first_1 == True) & (find_first_2 == False):\n",
    "        \n",
    "        if mars_temp_df.loc[row, \"month\"] == 2:\n",
    "            find_first_2 = True\n",
    "    \n",
    "    # Find the next first month 1 which will give us he earth days start and end dates\n",
    "    elif find_second_1 == False:\n",
    "        \n",
    "        if mars_temp_df.loc[row, \"month\"] == 1:\n",
    "            end_date = mars_temp_df.loc[(row-1), \"terrestrial_date\"]\n",
    "            find_second_1 = True\n",
    "            end_date_index = row-1"
   ]
  },
  {
   "cell_type": "code",
   "execution_count": 19,
   "id": "99f2c756",
   "metadata": {},
   "outputs": [
    {
     "name": "stdout",
     "output_type": "stream",
     "text": [
      "There is approximately 686 terrestrial (Earth) days that exist in a Martian year\n"
     ]
    }
   ],
   "source": [
    "# Using the start and end dates we can subtract the two and get the total number of days for 1 Martian year\n",
    "total_days = (end_date - start_date).days\n",
    "\n",
    "# Print the outcome\n",
    "print(f\"There is approximately {total_days} terrestrial (Earth) days that exist in a Martian year\")"
   ]
  },
  {
   "cell_type": "code",
   "execution_count": 20,
   "id": "12f72489",
   "metadata": {},
   "outputs": [],
   "source": [
    "# Create new dataframe that only holds the data for 1 Martian year only grabbing the date and min temp\n",
    "year_min_temp_df = mars_temp_df[start_date_index: end_date_index][[\"terrestrial_date\",\"min_temp\"]].set_index('terrestrial_date')\n",
    "\n",
    "# Set the index to a string value to be used as x axis ticks\n",
    "year_min_temp_df.index = year_min_temp_df.index.astype(str)"
   ]
  },
  {
   "cell_type": "code",
   "execution_count": 21,
   "id": "24633270",
   "metadata": {},
   "outputs": [
    {
     "data": {
      "image/png": "[encoded data removed]",
      "text/plain": [
       "<Figure size 432x288 with 1 Axes>"
      ]
     },
     "metadata": {
      "needs_background": "light"
     },
     "output_type": "display_data"
    }
   ],
   "source": [
    "# Use Pandas Plotting with Matplotlib to plot the data\n",
    "year_min_temp_df.plot(y=\"min_temp\", kind=\"bar\", rot=90, fontsize=10, grid=True, width=2)\n",
    "\n",
    "# Set tick locations every 68.8 \n",
    "tick_locations = np.arange(0, len(year_min_temp_df), 68.8)\n",
    "\n",
    "# Grab xtick values\n",
    "x_ticks = year_min_temp_df.iloc[tick_locations,:0]\n",
    "\n",
    "# Grab xtick values\n",
    "plt.xticks(tick_locations, x_ticks.index.values)\n",
    "\n",
    "# Set y axis visible range\n",
    "plt.ylim(-65, -90)\n",
    "\n",
    "# set axis label\n",
    "plt.ylabel(\"Minimum Temperature\")\n",
    "plt.xlabel(\"Terrestrial Date\")\n",
    "\n",
    "plt.title(\"Daily Minimum Temperature Through One Martian Year\")\n",
    "\n",
    "plt.show()"
   ]
  },
  {
   "cell_type": "markdown",
   "id": "fc64d93d",
   "metadata": {},
   "source": [
    "<h1>#Export the DataFrame to a CSV file.</h1>"
   ]
  },
  {
   "cell_type": "code",
   "execution_count": 22,
   "id": "5d427fa7",
   "metadata": {},
   "outputs": [],
   "source": [
    "# Save df as a csv file\n",
    "mars_temp_df.to_csv(output_data_file)"
   ]
  }
 ],
 "metadata": {
  "kernelspec": {
   "display_name": "Python [conda env:PythonData2] *",
   "language": "python",
   "name": "conda-env-PythonData2-py"
  },
  "language_info": {
   "codemirror_mode": {
    "name": "ipython",
    "version": 3
   },
   "file_extension": ".py",
   "mimetype": "text/x-python",
   "name": "python",
   "nbconvert_exporter": "python",
   "pygments_lexer": "ipython3",
   "version": "3.7.7"
  }
 },
 "nbformat": 4,
 "nbformat_minor": 5
}
