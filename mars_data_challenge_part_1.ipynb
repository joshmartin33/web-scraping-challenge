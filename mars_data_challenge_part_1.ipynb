{
 "cells": [
  {
   "cell_type": "code",
   "execution_count": 1,
   "id": "bf3796b8",
   "metadata": {},
   "outputs": [],
   "source": [
    "# Import dependencies\n",
    "from splinter import Browser\n",
    "from bs4 import BeautifulSoup\n",
    "from webdriver_manager.chrome import ChromeDriverManager\n",
    "import json"
   ]
  },
  {
   "cell_type": "code",
   "execution_count": 2,
   "id": "544eae78",
   "metadata": {},
   "outputs": [],
   "source": [
    "# Setup splinter\n",
    "executable_path = {'executable_path': ChromeDriverManager().install()}\n",
    "browser = Browser('chrome', **executable_path, headless=False)"
   ]
  },
  {
   "cell_type": "code",
   "execution_count": 3,
   "id": "a4d12655",
   "metadata": {},
   "outputs": [],
   "source": [
    "# set the target url\n",
    "url = 'https://redplanetscience.com/'\n",
    "browser.visit(url)"
   ]
  },
  {
   "cell_type": "code",
   "execution_count": 4,
   "id": "d3617572",
   "metadata": {},
   "outputs": [],
   "source": [
    "# Read HTML from browser\n",
    "html = browser.html\n",
    "\n",
    "# Create a Beautiful Soup object\n",
    "soup = BeautifulSoup(html, 'html.parser')"
   ]
  },
  {
   "cell_type": "code",
   "execution_count": 5,
   "id": "8dca1a78",
   "metadata": {},
   "outputs": [],
   "source": [
    "# Scrape all div's with the list_text class.\n",
    "# This will give us a list of all articles text\n",
    "articles = soup.find_all(\"div\", class_=\"list_text\")"
   ]
  },
  {
   "cell_type": "code",
   "execution_count": 6,
   "id": "c35e2680",
   "metadata": {},
   "outputs": [
    {
     "name": "stdout",
     "output_type": "stream",
     "text": [
      "[\n",
      "    {\n",
      "        \"title\": \"Mars Scientists Investigate Ancient Life in Australia\",\n",
      "        \"preview\": \"Teams with NASA's Mars 2020 and ESA's ExoMars practiced hunting for fossilized microbial life in the Australian Outback in preparation for their Red Planet missions.\"\n",
      "    },\n",
      "    {\n",
      "        \"title\": \"Follow NASA's Perseverance Rover in Real Time on Its Way to Mars\",\n",
      "        \"preview\": \"A crisply rendered web application can show you where the agency's Mars 2020 mission is right now as it makes its way to the Red Planet for a Feb. 18, 2021, landing.\"\n",
      "    },\n",
      "    {\n",
      "        \"title\": \"NASA's Curiosity Mars Rover Takes a New Selfie Before Record Climb\",\n",
      "        \"preview\": \"Along with capturing an image before its steepest ascent ever, the robotic explorer filmed its \\\"selfie stick,\\\" or robotic arm, in action.\"\n",
      "    },\n",
      "    {\n",
      "        \"title\": \"Mars Helicopter Attached to NASA's Perseverance Rover\",\n",
      "        \"preview\": \"The team also fueled the rover's sky crane to get ready for this summer's history-making launch.\"\n",
      "    },\n",
      "    {\n",
      "        \"title\": \"NASA Prepares for Moon and Mars With New Addition to Its Deep Space Network\",\n",
      "        \"preview\": \"Robotic spacecraft will be able to communicate with the dish using radio waves and lasers.\"\n",
      "    },\n",
      "    {\n",
      "        \"title\": \"Two Rovers to Roll on Mars Again: Curiosity and Mars 2020\",\n",
      "        \"preview\": \"They look like twins. But under the hood, the rover currently exploring the Red Planet and the one launching there this summer have distinct science tools and roles to play.\"\n",
      "    },\n",
      "    {\n",
      "        \"title\": \"NASA's Perseverance Rover Bringing 3D-Printed Metal Parts to Mars\",\n",
      "        \"preview\": \"For hobbyists and makers, 3D printing expands creative possibilities; for specialized engineers, it's also key to next-generation spacecraft design.\"\n",
      "    },\n",
      "    {\n",
      "        \"title\": \"New Selfie Shows Curiosity, the Mars Chemist\",\n",
      "        \"preview\": \"The NASA rover performed a special chemistry experiment at the location captured in its newest self-portrait.\"\n",
      "    },\n",
      "    {\n",
      "        \"title\": \"NASA's MAVEN Maps Winds in the Martian Upper Atmosphere that Mirror the Terrain Below and Gives Clues to Martian Climate\",\n",
      "        \"preview\": \"Researchers have created the first map of wind circulation in the upper atmosphere of a planet besides Earth, using data from NASA\\u2019s MAVEN spacecraft that were collected during the last two years.\"\n",
      "    },\n",
      "    {\n",
      "        \"title\": \"NASA Establishes Board to Initially Review Mars Sample Return Plans\",\n",
      "        \"preview\": \"The board will assist with analysis of current plans and goals for one of the most difficult missions humanity has ever undertaken.\"\n",
      "    },\n",
      "    {\n",
      "        \"title\": \"Newfound Martian Aurora Actually the Most Common; Sheds Light on Mars' Changing Climate\",\n",
      "        \"preview\": \"A type of Martian aurora first identified by NASA\\u2019s MAVEN spacecraft in 2016 is actually the most common form of aurora occurring on the Red Planet, according to new results from the mission.\"\n",
      "    },\n",
      "    {\n",
      "        \"title\": \"The MarCO Mission Comes to an End\",\n",
      "        \"preview\": \"The pair of briefcase-sized satellites made history when they sailed past Mars in 2019.\"\n",
      "    },\n",
      "    {\n",
      "        \"title\": \"NASA's Mars 2020 Comes Full Circle\",\n",
      "        \"preview\": \"Aiming to pinpoint the Martian vehicle's center of gravity, engineers took NASA's 2,300-pound Mars 2020 rover for a spin in the clean room at JPL.\"\n",
      "    },\n",
      "    {\n",
      "        \"title\": \"10.9 Million Names Now Aboard NASA's Perseverance Mars Rover\",\n",
      "        \"preview\": \"As part of NASA's 'Send Your Name to Mars' campaign, they've been stenciled onto three microchips along with essays from NASA's 'Name the Rover' contest. Next stop: Mars.\"\n",
      "    },\n",
      "    {\n",
      "        \"title\": \"NASA Updates Mars 2020 Mission Environmental Review\",\n",
      "        \"preview\": \"NASA and the Department of Energy have completed a more detailed risk analysis for the Mars 2020 rover launch from Florida.\"\n",
      "    }\n",
      "]\n"
     ]
    }
   ],
   "source": [
    "# Create empty dictionary and list\n",
    "data = {}\n",
    "mars_news = []\n",
    "\n",
    "# Iterate through each article\n",
    "for row in articles:\n",
    "    # Use Beautiful Soup's find() method to navigate and retrieve attributes\n",
    "    title = row.find('div', class_='content_title').text\n",
    "    preview = row.find('div', class_='article_teaser_body').text.rstrip()\n",
    "    data[\"title\"] = title\n",
    "    data[\"preview\"] = preview\n",
    "    \n",
    "    #print(preview)\n",
    "    # Add dictionary to a list\n",
    "    mars_news.append(data)\n",
    "    \n",
    "    # reset dictionary\n",
    "    data = {}\n",
    "\n",
    "# Print output using json.dumps for clearer viewing\n",
    "print(json.dumps(mars_news,sort_keys=False, indent=4))"
   ]
  },
  {
   "cell_type": "code",
   "execution_count": 7,
   "id": "20e7a9d2",
   "metadata": {},
   "outputs": [],
   "source": [
    "# Close the browser\n",
    "browser.quit()"
   ]
  },
  {
   "cell_type": "code",
   "execution_count": 8,
   "id": "4005e3cf",
   "metadata": {},
   "outputs": [],
   "source": [
    "# Save results as a json file\n",
    "with open('results/mars_news.json', 'w') as fout:\n",
    "    json.dump(mars_news , fout)"
   ]
  }
 ],
 "metadata": {
  "kernelspec": {
   "display_name": "Python [conda env:PythonData2] *",
   "language": "python",
   "name": "conda-env-PythonData2-py"
  },
  "language_info": {
   "codemirror_mode": {
    "name": "ipython",
    "version": 3
   },
   "file_extension": ".py",
   "mimetype": "text/x-python",
   "name": "python",
   "nbconvert_exporter": "python",
   "pygments_lexer": "ipython3",
   "version": "3.7.7"
  }
 },
 "nbformat": 4,
 "nbformat_minor": 5
}
