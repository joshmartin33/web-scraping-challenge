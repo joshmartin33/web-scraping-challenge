{
 "cells": [
  {
   "cell_type": "code",
   "execution_count": 1,
   "id": "13697838",
   "metadata": {},
   "outputs": [],
   "source": [
    "# Import dependencies\n",
    "from splinter import Browser\n",
    "from bs4 import BeautifulSoup\n",
    "from webdriver_manager.chrome import ChromeDriverManager\n",
    "import json"
   ]
  },
  {
   "cell_type": "code",
   "execution_count": 2,
   "id": "25114aa6",
   "metadata": {},
   "outputs": [],
   "source": [
    "# Setup splinter\n",
    "executable_path = {'executable_path': ChromeDriverManager().install()}\n",
    "browser = Browser('chrome', **executable_path, headless=False)"
   ]
  },
  {
   "cell_type": "code",
   "execution_count": 3,
   "id": "7919a0d5",
   "metadata": {},
   "outputs": [],
   "source": [
    "url = 'https://redplanetscience.com/'\n",
    "browser.visit(url)"
   ]
  },
  {
   "cell_type": "code",
   "execution_count": 4,
   "id": "adad8807",
   "metadata": {},
   "outputs": [],
   "source": [
    "html = browser.html\n",
    "soup = BeautifulSoup(html, 'html.parser')"
   ]
  },
  {
   "cell_type": "code",
   "execution_count": 5,
   "id": "e996ee75",
   "metadata": {},
   "outputs": [],
   "source": [
    "# Scrape all div's with the list_text class.\n",
    "# This will give us a list of all articles text\n",
    "articles = soup.find_all(\"div\", class_=\"list_text\")"
   ]
  },
  {
   "cell_type": "code",
   "execution_count": 6,
   "id": "3d6243d4",
   "metadata": {},
   "outputs": [
    {
     "name": "stdout",
     "output_type": "stream",
     "text": [
      "[\n",
      "    {\n",
      "        \"title\": \"Deadline Closing for Names to Fly on NASA's Next Mars Rover\",\n",
      "        \"preview\": \"You have until Sept. 30 to send your names to Mars aboard the Mars 2020 rover.\"\n",
      "    },\n",
      "    {\n",
      "        \"title\": \"NASA-JPL Names 'Rolling Stones Rock' on Mars\",\n",
      "        \"preview\": \"NASA's Mars InSight mission honored one of the biggest bands of all time at Pasadena concert.\"\n",
      "    },\n",
      "    {\n",
      "        \"title\": \"Independent Review Indicates NASA Prepared for Mars Sample Return Campaign\",\n",
      "        \"preview\": \"NASA released an independent review report Tuesday indicating the agency is well positioned for its Mars Sample Return campaign to bring pristine samples from Mars to Earth for scientific study.\"\n",
      "    },\n",
      "    {\n",
      "        \"title\": \"Mars Is Getting a New Robotic Meteorologist\",\n",
      "        \"preview\": \"Sensors on NASA's Perseverance will help prepare for future human exploration by taking weather measurements and studying dust particles.\"\n",
      "    },\n",
      "    {\n",
      "        \"title\": \"Join NASA for the Launch of the Mars 2020 Perseverance Rover\",\n",
      "        \"preview\": \"No matter where you live, choose from a menu of activities to join NASA as we \\\"Countdown to Mars\\\" and launch the Perseverance rover to the Red Planet.\"\n",
      "    },\n",
      "    {\n",
      "        \"title\": \"The Man Who Wanted to Fly on Mars\",\n",
      "        \"preview\": \"The Mars Helicopter is riding to the Red Planet this summer with NASA's Perseverance rover. The helicopter's chief engineer, Bob Balaram, shares the saga of how it came into being.\"\n",
      "    },\n",
      "    {\n",
      "        \"title\": \"NASA's Perseverance Rover Is Midway to Mars \",\n",
      "        \"preview\": \"Sometimes half measures can be a good thing \\u2013 especially on a journey this long. The agency's latest rover only has about 146 million miles left to reach its destination.\"\n",
      "    },\n",
      "    {\n",
      "        \"title\": \"NASA Invites Public to Share Excitement of Mars 2020 Perseverance Rover Launch\",\n",
      "        \"preview\": \"There are lots of ways to participate in the historic event, which is targeted for July 30.\"\n",
      "    },\n",
      "    {\n",
      "        \"title\": \"Celebrate Mars Reconnaissance Orbiter's Views From Above\",\n",
      "        \"preview\": \"Marking its 15th anniversary since launch, one of the oldest spacecraft at the Red Planet has provided glimpses of dust devils, avalanches, and more.\"\n",
      "    },\n",
      "    {\n",
      "        \"title\": \"A Martian Roundtrip: NASA's Perseverance Rover Sample Tubes\",\n",
      "        \"preview\": \"Marvels of engineering, the rover's sample tubes must be tough enough to safely bring Red Planet samples on the long journey back to Earth in immaculate condition.\"\n",
      "    },\n",
      "    {\n",
      "        \"title\": \"HiRISE Views NASA's InSight and Curiosity on Mars\",\n",
      "        \"preview\": \"New images taken from space offer the clearest orbital glimpse yet of InSight as well as a view of Curiosity rolling along.\"\n",
      "    },\n",
      "    {\n",
      "        \"title\": \"5 Hidden Gems Are Riding Aboard NASA's Perseverance Rover\",\n",
      "        \"preview\": \"The symbols, mottos, and small objects added to the agency's newest Mars rover serve a variety of purposes, from functional to decorative.\"\n",
      "    },\n",
      "    {\n",
      "        \"title\": \"NASA's New Mars Rover Will Use X-Rays to Hunt Fossils\",\n",
      "        \"preview\": \"PIXL, an instrument on the end of the Perseverance rover's arm, will search for chemical fingerprints left by ancient microbes.\"\n",
      "    },\n",
      "    {\n",
      "        \"title\": \"Common Questions about InSight's 'Mole'\",\n",
      "        \"preview\": \"The following Q&As with members of the team answer some of the most common questions about the burrowing device, part of a science instrument called the Heat Flow and Physical Properties Package (HP3).\"\n",
      "    },\n",
      "    {\n",
      "        \"title\": \"Hear Audio From NASA's Perseverance As It Travels Through Deep Space\",\n",
      "        \"preview\": \"The first to be rigged with microphones, the agency's latest Mars rover picked up the subtle sounds of its own inner workings during interplanetary flight.\"\n",
      "    }\n",
      "]\n"
     ]
    }
   ],
   "source": [
    "# Create empty dictionary and list\n",
    "data = {}\n",
    "mars_news = []\n",
    "\n",
    "# Iterate through each article\n",
    "for row in articles:\n",
    "    # Use Beautiful Soup's find() method to navigate and retrieve attributes\n",
    "    title = row.find('div', class_='content_title').text\n",
    "    preview = row.find('div', class_='article_teaser_body').text.rstrip()\n",
    "    data[\"title\"] = title\n",
    "    data[\"preview\"] = preview\n",
    "    \n",
    "    #print(preview)\n",
    "    # Add dictionary to a list\n",
    "    mars_news.append(data)\n",
    "    \n",
    "    # reset dictionary\n",
    "    data = {}\n",
    "\n",
    "# Print output using json.dumps for clearer viewing\n",
    "print(json.dumps(mars_news,sort_keys=False, indent=4))"
   ]
  },
  {
   "cell_type": "code",
   "execution_count": 7,
   "id": "3f8a1932",
   "metadata": {},
   "outputs": [],
   "source": [
    "# Close the browser\n",
    "browser.quit()"
   ]
  },
  {
   "cell_type": "code",
   "execution_count": null,
   "id": "acc0385e",
   "metadata": {},
   "outputs": [],
   "source": []
  }
 ],
 "metadata": {
  "kernelspec": {
   "display_name": "Python [conda env:PythonData2] *",
   "language": "python",
   "name": "conda-env-PythonData2-py"
  },
  "language_info": {
   "codemirror_mode": {
    "name": "ipython",
    "version": 3
   },
   "file_extension": ".py",
   "mimetype": "text/x-python",
   "name": "python",
   "nbconvert_exporter": "python",
   "pygments_lexer": "ipython3",
   "version": "3.7.7"
  }
 },
 "nbformat": 4,
 "nbformat_minor": 5
}
